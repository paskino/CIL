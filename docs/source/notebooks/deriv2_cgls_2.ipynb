{
 "cells": [
  {
   "cell_type": "code",
   "execution_count": null,
   "id": "602dbdfe",
   "metadata": {},
   "outputs": [],
   "source": [
    "# -*- coding: utf-8 -*-\n",
    "#  Copyright 2023 United Kingdom Research and Innovation\n",
    "#\n",
    "#  Licensed under the Apache License, Version 2.0 (the \"License\");\n",
    "#  you may not use this file except in compliance with the License.\n",
    "#  You may obtain a copy of the License at\n",
    "#\n",
    "#      http://www.apache.org/licenses/LICENSE-2.0\n",
    "#\n",
    "#  Unless required by applicable law or agreed to in writing, software\n",
    "#  distributed under the License is distributed on an \"AS IS\" BASIS,\n",
    "#  WITHOUT WARRANTIES OR CONDITIONS OF ANY KIND, either express or implied.\n",
    "#  See the License for the specific language governing permissions and\n",
    "#  limitations under the License.\n",
    "#\n",
    "#   Authored by:  Bill Lionheart (University of Manchester),\n",
    "#   Edited by:  Margaret Duff (STFC - UKRI)"
   ]
  },
  {
   "cell_type": "markdown",
   "id": "6f8acbea",
   "metadata": {},
   "source": [
    "# 1D inverse problem demo using deriv2 from regtools"
   ]
  },
  {
   "cell_type": "markdown",
   "id": "5dc422b7",
   "metadata": {},
   "source": [
    "We roughly translated deriv2 (P. C. Hansen, Regularization Tools Version 4.0 for Matlab 7.3, Numerical Algorithms, 46 (2007), pp. 189-194.) to Python. The righthand side vector b is made as Ax so is \"exact\" as a vector. We will look at the singular valued decomposition (SVD) and regularized solution as an example of a mildly ill posed problem and show how to recostruct using the Core Imaging Library (CIL. See Jørgensen, Jakob S., et al. \"Core Imaging Library-Part I: a versatile Python framework for tomographic imaging.\" Philosophical Transactions of the Royal Society A 379.2204 (2021): 20200192. and https://tomographicimaging.github.io/CIL/nightly/index.html). "
   ]
  },
  {
   "cell_type": "markdown",
   "id": "7f0222cb",
   "metadata": {},
   "source": [
    "This notebook was developed as part of the CCPi CIL Hackathon https://ccpi.ac.uk/events/byod-cil-hackathon/ in March 2023 in Cambridge as part of the Rich Nonlinear Tomography programme at the Isaac Newton Institute for Mathematical Sciences https://www.newton.ac.uk/event/rnt/.  The CIL is supported by the CCPi EPSRC grant EP/T026677/1 and the Isaac NewtonInstitute by EP/R014604/1 The author would like to thank the Isaac Newton Institute for support  and hospitality.(c) W.R.B. Lionheart 2023. Apache License"
   ]
  },
  {
   "cell_type": "code",
   "execution_count": null,
   "id": "b2a54694",
   "metadata": {},
   "outputs": [],
   "source": [
    "import numpy as np\n",
    "import matplotlib.pyplot as plt\n",
    "from cil.optimisation.algorithms import CGLS\n",
    "from cil.optimisation.operators import MatrixOperator\n",
    "from cil.framework import VectorData, BlockDataContainer\n",
    "from deriv2 import deriv2\n",
    "from cil.optimisation.operators import BlockOperator,IdentityOperator"
   ]
  },
  {
   "cell_type": "markdown",
   "id": "d33631d9",
   "metadata": {},
   "source": [
    "### CIL version 23.0.1"
   ]
  },
  {
   "cell_type": "code",
   "execution_count": null,
   "id": "751f22b8",
   "metadata": {},
   "outputs": [],
   "source": [
    "import cil\n",
    "print(cil.__version__)"
   ]
  },
  {
   "cell_type": "markdown",
   "id": "250103e8",
   "metadata": {},
   "source": [
    "We set up a 1D inverse problem, in which the forward model integrates twice.  The notebook will first set up and solve a basic formulation of the problem using just python/numpy, and after that using CIL.\n",
    "\n",
    "Consider a discretization of a first kind Fredholm integral equation whose kernel K is the  Green's function for the second derivative:\n",
    " $$\n",
    "    K(s,t) = \\begin{cases} s(t-1)  ,  s <  t \\\\\n",
    "              t(s-1)  ,  s \\geq t \\end{cases} $$\n",
    "\n",
    "and $$ \\int_0^1K(s,t)x(t)dt=b(s). $$\n",
    "\n",
    " For this notebook, consider the case\n",
    "$$ b(s) = (s^3 - s)/6          , \\ \\  x(t) = t$$\n",
    "\n",
    " where the integral is disretised using the Galerkin method with orthonormal box functions, with interval size $1/n$.\n",
    "\n"
   ]
  },
  {
   "cell_type": "code",
   "execution_count": null,
   "id": "27770924",
   "metadata": {},
   "outputs": [],
   "source": [
    "\n",
    "# Test of one dimensional inverse problems using deriv2 from reg tools\n",
    "n = 100\n",
    "A,b,x = deriv2(n,1)\n",
    "\n"
   ]
  },
  {
   "cell_type": "markdown",
   "id": "113e7dc1",
   "metadata": {},
   "source": [
    "The functions $b$ and $x$ can be plotted:"
   ]
  },
  {
   "cell_type": "code",
   "execution_count": null,
   "id": "336dc870",
   "metadata": {},
   "outputs": [],
   "source": [
    "\n",
    "plt.figure()\n",
    "plt.plot(np.linspace(0,1,n),x, label='x')\n",
    "plt.plot(np.linspace(0,1,n),b, label='b')\n",
    "plt.plot()\n",
    "plt.legend()\n",
    "plt.show()\n",
    "\n"
   ]
  },
  {
   "cell_type": "markdown",
   "id": "84dfaf27",
   "metadata": {},
   "source": [
    "This has made a A, x, and b where Ax=b. We can check check this is the case up to floating point error: "
   ]
  },
  {
   "cell_type": "code",
   "execution_count": null,
   "id": "6d854bd7",
   "metadata": {},
   "outputs": [],
   "source": [
    "np.linalg.norm(A@x-b)"
   ]
  },
  {
   "cell_type": "markdown",
   "id": "554b487c",
   "metadata": {},
   "source": [
    "Now make a version of b with noise"
   ]
  },
  {
   "cell_type": "code",
   "execution_count": null,
   "id": "35d30bb8",
   "metadata": {},
   "outputs": [],
   "source": [
    "bn= b + 0.001*np.random.randn(n)\n",
    "plt.figure()\n",
    "plt.plot(np.linspace(0,1,n),b, label='Noise free b')\n",
    "plt.plot(np.linspace(0,1,n),bn, label='Noisy b')\n",
    "plt.legend()\n",
    "plt.show()\n"
   ]
  },
  {
   "cell_type": "markdown",
   "id": "cd88fee8",
   "metadata": {},
   "source": [
    "$A$, $x$ and $b$ are stored as Numpy arrays. Just as in Matlab we can look at the singular value decomposition (SVD).   On a log scale we see the singular values decay as a negative power as expected for an operator that approximates the inverse of two derivatives.\n"
   ]
  },
  {
   "cell_type": "code",
   "execution_count": null,
   "id": "761ac845",
   "metadata": {},
   "outputs": [],
   "source": [
    "u, s, vh = np.linalg.svd(A, full_matrices=True)\n",
    "plt.figure()\n",
    "plt.plot(s)\n",
    "plt.title('The singular values of the forward operator A')\n",
    "plt.show()\n",
    "plt.figure()\n",
    "plt.loglog(s)\n",
    "plt.title('A log-log plot of the singular values of the forward operator A')\n",
    "plt.show()\n",
    "\n"
   ]
  },
  {
   "cell_type": "markdown",
   "id": "ad79f585",
   "metadata": {},
   "source": [
    "Solving the least squares problem $\\min_x\\|Ax-b\\|_2^2$ demonstrates the ill-posedness of the problem:"
   ]
  },
  {
   "cell_type": "code",
   "execution_count": null,
   "id": "cab55e6b",
   "metadata": {},
   "outputs": [],
   "source": [
    "xlq=np.linalg.lstsq(A,bn,rcond=None)[0]\n",
    "\n",
    "plt.figure()\n",
    "plt.plot(np.linspace(0,1,n),xlq, label='Least squares solution')\n",
    "plt.plot(np.linspace(0,1,n),x, label='Ground truth solution')\n",
    "plt.legend()\n",
    "plt.figure()\n",
    "\n"
   ]
  },
  {
   "cell_type": "markdown",
   "id": "44ed725c",
   "metadata": {},
   "source": [
    "We see the solution matches the observed data well:"
   ]
  },
  {
   "cell_type": "code",
   "execution_count": null,
   "id": "28589f81",
   "metadata": {},
   "outputs": [],
   "source": [
    "np.linalg.norm(A@xlq-bn)"
   ]
  },
  {
   "cell_type": "markdown",
   "id": "54c64567",
   "metadata": {},
   "source": [
    "However this is not a desired solution to our inverse problem. Now, instead, solve using Tikonov regularization: "
   ]
  },
  {
   "cell_type": "code",
   "execution_count": null,
   "id": "e14a076f",
   "metadata": {},
   "outputs": [],
   "source": [
    "reg_param= 0.005\n",
    "\n",
    "Atik=np.vstack((A,reg_param*np.eye(n))) \n",
    "\n",
    "btik = np.hstack((bn,np.zeros(n)))\n",
    "\n",
    "xtik =  np.linalg.lstsq(Atik,btik,rcond=None)[0]\n",
    "plt.figure()\n",
    "plt.plot(np.linspace(0,1,n),xtik, label='Tikhonov regularised solution- numpy')\n",
    "plt.plot(np.linspace(0,1,n),x, label='Ground truth solution')\n",
    "plt.legend()\n",
    "plt.figure()\n"
   ]
  },
  {
   "cell_type": "markdown",
   "id": "5e35764d",
   "metadata": {},
   "source": [
    "This solution is an improvement, although we still have this odd behaviour at the end of the interval. "
   ]
  },
  {
   "cell_type": "markdown",
   "id": "9c93e53f",
   "metadata": {},
   "source": [
    "Now convert the matrix and operators to CIL types so we can use inbuilt optimisation routines and regularisers in CIL: "
   ]
  },
  {
   "cell_type": "code",
   "execution_count": null,
   "id": "7ab3314c",
   "metadata": {},
   "outputs": [],
   "source": [
    "Aop = MatrixOperator(A)\n",
    "bop= VectorData(bn) \n"
   ]
  },
  {
   "cell_type": "markdown",
   "id": "1a523f4b",
   "metadata": {},
   "source": [
    "We run CGLS to solve the un-regularised least squares problem $$\\min_x \\|Ax-b\\|_2^2.$$ We choose a small number of iterations to implicitly regularise via early stopping: "
   ]
  },
  {
   "cell_type": "code",
   "execution_count": null,
   "id": "a8bd2985",
   "metadata": {},
   "outputs": [],
   "source": [
    "#bop = VectorData(np.reshape(b,[-1]))\n",
    "op = VectorData(bn)\n",
    "cgls = CGLS(operator=Aop, data=bop, max_iteration=4, update_objective_interval=10)\n",
    "cgls.run()\n",
    "\n",
    "plt.figure()\n",
    "plt.plot(np.linspace(0,1,100),cgls.solution.as_array(), label='Least squares solution with early stopping')\n",
    "plt.plot(np.linspace(0,1,100),x, label='Ground truth solution')\n",
    "plt.legend()\n",
    "plt.show()"
   ]
  },
  {
   "cell_type": "markdown",
   "id": "90dcba3f",
   "metadata": {},
   "source": [
    "We can also do Tikhonov regularisation using the CIL framework. For example, in the block framework below: "
   ]
  },
  {
   "cell_type": "code",
   "execution_count": null,
   "id": "15ff9d79",
   "metadata": {},
   "outputs": [],
   "source": [
    "ig = Aop.domain_geometry()\n",
    "L = IdentityOperator(ig)\n",
    "operator_block = BlockOperator(Aop, reg_param*L)\n",
    "\n",
    "zero_data = L.range.allocate(0)\n",
    "data_block = BlockDataContainer(bop, zero_data)\n",
    "\n",
    "cglsb = CGLS(operator=operator_block, data=data_block, max_iteration=1000, update_objctive_interval=10)\n",
    "cglsb.run()"
   ]
  },
  {
   "cell_type": "code",
   "execution_count": null,
   "id": "74107db6",
   "metadata": {},
   "outputs": [],
   "source": [
    "plt.figure()\n",
    "plt.plot(np.linspace(0,1,n), cglsb.solution.as_array(), label='Tikhonov regularised solution- CIL')\n",
    "plt.plot(np.linspace(0,1,n),x, label='Ground truth solution')\n",
    "plt.legend()\n",
    "plt.show()\n"
   ]
  },
  {
   "cell_type": "markdown",
   "id": "1fa3e6b0",
   "metadata": {},
   "source": [
    "We can compare the results of Tikhonov regularisation implemented by numpy and CIL: "
   ]
  },
  {
   "cell_type": "code",
   "execution_count": null,
   "id": "7c6e22c8",
   "metadata": {},
   "outputs": [],
   "source": [
    "plt.figure()\n",
    "plt.plot(np.linspace(0,1,n),  cglsb.solution.as_array(),'o', label='Tikhonov regularised solution- CIL')\n",
    "plt.plot(np.linspace(0,1,n),xtik, '+', label='Tikhonov regularised solution- numpy')\n",
    "plt.plot(np.linspace(0,1,n),x, label='Ground truth solution')\n",
    "plt.legend()\n",
    "plt.show()\n"
   ]
  },
  {
   "cell_type": "markdown",
   "id": "acc199d9",
   "metadata": {},
   "source": [
    "You can see that the solutions are identical!"
   ]
  },
  {
   "cell_type": "markdown",
   "id": "c27a9218",
   "metadata": {},
   "source": [
    "We think the reconstruction error near the boundary at 1 is caused by the discretisation of the integral - for future investigation "
   ]
  }
 ],
 "metadata": {
  "kernelspec": {
   "display_name": "Python 3 (ipykernel)",
   "language": "python",
   "name": "python"
  },
  "language_info": {
   "codemirror_mode": {
    "name": "ipython",
    "version": 3
   },
   "file_extension": ".py",
   "mimetype": "text/x-python",
   "name": "python",
   "nbconvert_exporter": "python",
   "pygments_lexer": "ipython3",
   "version": "3.10.12"
  }
 },
 "nbformat": 4,
 "nbformat_minor": 5
}
